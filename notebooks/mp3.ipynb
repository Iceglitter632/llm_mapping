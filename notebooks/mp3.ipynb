{
 "cells": [
  {
   "cell_type": "code",
   "execution_count": 1,
   "id": "258ae8a0-a82e-4ca5-8768-0169b6a4c72c",
   "metadata": {},
   "outputs": [],
   "source": [
    "from datasets import load_dataset, Audio\n",
    "from transformers import EncodecModel, AutoProcessor"
   ]
  },
  {
   "cell_type": "code",
   "execution_count": 2,
   "id": "6a76d780-39ae-4436-92c0-32671332da74",
   "metadata": {},
   "outputs": [
    {
     "name": "stderr",
     "output_type": "stream",
     "text": [
      "/home/jerry/miniconda3/envs/vqvae/lib/python3.11/site-packages/datasets/load.py:1429: FutureWarning: The repository for hf-internal-testing/librispeech_asr_dummy contains custom code which must be executed to correctly load the dataset. You can inspect the repository content at https://hf.co/datasets/hf-internal-testing/librispeech_asr_dummy\n",
      "You can avoid this message in future by passing the argument `trust_remote_code=True`.\n",
      "Passing `trust_remote_code=True` will be mandatory to load this dataset from the next major release of `datasets`.\n",
      "  warnings.warn(\n"
     ]
    },
    {
     "data": {
      "application/vnd.jupyter.widget-view+json": {
       "model_id": "a665ed5cb51b497b913ec36fc569b8ca",
       "version_major": 2,
       "version_minor": 0
      },
      "text/plain": [
       "Downloading builder script:   0%|          | 0.00/5.17k [00:00<?, ?B/s]"
      ]
     },
     "metadata": {},
     "output_type": "display_data"
    },
    {
     "data": {
      "application/vnd.jupyter.widget-view+json": {
       "model_id": "905ab396c18e4776bcc8423ec0ebad3b",
       "version_major": 2,
       "version_minor": 0
      },
      "text/plain": [
       "Downloading data:   0%|          | 0.00/9.08M [00:00<?, ?B/s]"
      ]
     },
     "metadata": {},
     "output_type": "display_data"
    },
    {
     "data": {
      "application/vnd.jupyter.widget-view+json": {
       "model_id": "22bee9d7ca234a0c8aa103d2ab992280",
       "version_major": 2,
       "version_minor": 0
      },
      "text/plain": [
       "Generating validation split: 0 examples [00:00, ? examples/s]"
      ]
     },
     "metadata": {},
     "output_type": "display_data"
    },
    {
     "data": {
      "application/vnd.jupyter.widget-view+json": {
       "model_id": "0a0d314f9fab42e78a2e46aa8c4aeadb",
       "version_major": 2,
       "version_minor": 0
      },
      "text/plain": [
       "config.json:   0%|          | 0.00/809 [00:00<?, ?B/s]"
      ]
     },
     "metadata": {},
     "output_type": "display_data"
    },
    {
     "data": {
      "application/vnd.jupyter.widget-view+json": {
       "model_id": "b41bc7b7f99e4c44b86ccce22a36bd6a",
       "version_major": 2,
       "version_minor": 0
      },
      "text/plain": [
       "model.safetensors:   0%|          | 0.00/93.1M [00:00<?, ?B/s]"
      ]
     },
     "metadata": {},
     "output_type": "display_data"
    },
    {
     "name": "stderr",
     "output_type": "stream",
     "text": [
      "/home/jerry/miniconda3/envs/vqvae/lib/python3.11/site-packages/torch/nn/utils/weight_norm.py:30: UserWarning: torch.nn.utils.weight_norm is deprecated in favor of torch.nn.utils.parametrizations.weight_norm.\n",
      "  warnings.warn(\"torch.nn.utils.weight_norm is deprecated in favor of torch.nn.utils.parametrizations.weight_norm.\")\n"
     ]
    },
    {
     "data": {
      "application/vnd.jupyter.widget-view+json": {
       "model_id": "7827d9047bd849d2ad8bfd2eebc8dacf",
       "version_major": 2,
       "version_minor": 0
      },
      "text/plain": [
       "preprocessor_config.json:   0%|          | 0.00/234 [00:00<?, ?B/s]"
      ]
     },
     "metadata": {},
     "output_type": "display_data"
    },
    {
     "name": "stderr",
     "output_type": "stream",
     "text": [
      "Could not find image processor class in the image processor config or the model config. Loading based on pattern matching with the model's feature extractor configuration.\n"
     ]
    }
   ],
   "source": [
    "# dummy dataset, however you can swap this with an dataset on the 🤗 hub or bring your own\n",
    "librispeech_dummy = load_dataset(\"hf-internal-testing/librispeech_asr_dummy\", \"clean\", split=\"validation\")\n",
    "\n",
    "# load the model + processor (for pre-processing the audio)\n",
    "model = EncodecModel.from_pretrained(\"facebook/encodec_24khz\")\n",
    "processor = AutoProcessor.from_pretrained(\"facebook/encodec_24khz\")"
   ]
  },
  {
   "cell_type": "code",
   "execution_count": 65,
   "id": "c60ce5ce-a72c-4deb-8cc4-895e02849b7b",
   "metadata": {},
   "outputs": [],
   "source": [
    "# cast the audio data to the correct sampling rate for the model\n",
    "librispeech_dummy = librispeech_dummy.cast_column(\"audio\", Audio(sampling_rate=processor.sampling_rate))\n",
    "audio_sample = librispeech_dummy[36][\"audio\"][\"array\"]"
   ]
  },
  {
   "cell_type": "code",
   "execution_count": 66,
   "id": "f93665c0-465d-4a95-947a-4498eee85a93",
   "metadata": {},
   "outputs": [],
   "source": [
    "# pre-process the inputs\n",
    "inputs = processor(raw_audio=audio_sample, sampling_rate=processor.sampling_rate, return_tensors=\"pt\")\n",
    "\n",
    "# explicitly encode then decode the audio inputs\n",
    "encoder_outputs = model.encode(inputs[\"input_values\"], inputs[\"padding_mask\"])"
   ]
  },
  {
   "cell_type": "code",
   "execution_count": 67,
   "id": "dff25c98-a595-4292-b240-3545758524c8",
   "metadata": {
    "scrolled": true
   },
   "outputs": [
    {
     "data": {
      "text/plain": [
       "torch.Size([1, 1, 62280])"
      ]
     },
     "execution_count": 67,
     "metadata": {},
     "output_type": "execute_result"
    }
   ],
   "source": [
    "inputs['input_values'].shape"
   ]
  },
  {
   "cell_type": "code",
   "execution_count": 68,
   "id": "15bbb6fd-5e2f-446e-92c2-ca54f5345560",
   "metadata": {},
   "outputs": [
    {
     "data": {
      "text/plain": [
       "torch.Size([1, 1, 2, 195])"
      ]
     },
     "execution_count": 68,
     "metadata": {},
     "output_type": "execute_result"
    }
   ],
   "source": [
    "encoder_outputs[0].shape"
   ]
  },
  {
   "cell_type": "code",
   "execution_count": 69,
   "id": "73132f13-57e7-469f-98b9-9c22f3bcddc5",
   "metadata": {},
   "outputs": [],
   "source": [
    "import torch"
   ]
  },
  {
   "cell_type": "code",
   "execution_count": 70,
   "id": "4f8388fe-5dfe-4ef5-9091-8ee5d474af62",
   "metadata": {
    "scrolled": true
   },
   "outputs": [
    {
     "name": "stdout",
     "output_type": "stream",
     "text": [
      "tensor(1)\n",
      "tensor(1020)\n"
     ]
    }
   ],
   "source": [
    "print(torch.min(encoder_outputs[0]))\n",
    "print(torch.max(encoder_outputs[0]))"
   ]
  },
  {
   "cell_type": "code",
   "execution_count": 80,
   "id": "82957685-810e-4ce8-9c2f-8b5e6ddbfe4a",
   "metadata": {},
   "outputs": [
    {
     "data": {
      "text/plain": [
       "1024"
      ]
     },
     "execution_count": 80,
     "metadata": {},
     "output_type": "execute_result"
    }
   ],
   "source": [
    "# 1024 bin size codebook size\n",
    "model.quantizer.codebook_size"
   ]
  },
  {
   "cell_type": "code",
   "execution_count": null,
   "id": "131c0dff-8e89-4437-8173-8e35ce567a28",
   "metadata": {},
   "outputs": [],
   "source": []
  },
  {
   "cell_type": "code",
   "execution_count": 81,
   "id": "8146d882-3d75-44f9-9639-5fa7a0254d16",
   "metadata": {},
   "outputs": [],
   "source": [
    "audio_values = model.decode(encoder_outputs.audio_codes, encoder_outputs.audio_scales, inputs[\"padding_mask\"])[0]"
   ]
  },
  {
   "cell_type": "code",
   "execution_count": 82,
   "id": "bb174ca8-68c5-4dd6-94aa-2e419b6ecfa5",
   "metadata": {},
   "outputs": [],
   "source": [
    "# or the equivalent with a forward pass\n",
    "audio_values = model(inputs[\"input_values\"], inputs[\"padding_mask\"]).audio_values\n",
    "\n",
    "# you can also extract the discrete codebook r epresentation for LM tasks\n",
    "# output: concatenated tensor of all the representations\n",
    "audio_codes = model(inputs[\"input_values\"], inputs[\"padding_mask\"]).audio_codes"
   ]
  },
  {
   "cell_type": "code",
   "execution_count": null,
   "id": "82092e40-a259-45c0-bf16-80312aadae25",
   "metadata": {},
   "outputs": [],
   "source": []
  }
 ],
 "metadata": {
  "kernelspec": {
   "display_name": "vqvae",
   "language": "python",
   "name": "vqvae"
  },
  "language_info": {
   "codemirror_mode": {
    "name": "ipython",
    "version": 3
   },
   "file_extension": ".py",
   "mimetype": "text/x-python",
   "name": "python",
   "nbconvert_exporter": "python",
   "pygments_lexer": "ipython3",
   "version": "3.11.5"
  }
 },
 "nbformat": 4,
 "nbformat_minor": 5
}
